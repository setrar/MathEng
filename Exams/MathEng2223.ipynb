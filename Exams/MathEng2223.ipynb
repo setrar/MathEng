{
 "cells": [
  {
   "cell_type": "markdown",
   "id": "7e835880-c92a-4f1f-8939-c280ba7791a9",
   "metadata": {},
   "source": [
    "## Mathematical Methods for Engineers (MathEng)\n",
    "## EXAM\n",
    "#### December 2023\n",
    "```\n",
    "Duration: 2 hrs, all documents and calculators permitted\n",
    "ATTEMPT ALL QUESTIONS – ANSWER IN ENGLISH\n",
    "```"
   ]
  },
  {
   "cell_type": "markdown",
   "id": "2a604178-5929-466b-ab01-e8b44f43fb89",
   "metadata": {},
   "source": [
    "\n",
    "### 1. Using Euler’s identity (or any other appropriate method), write down an expression for the complex Fourier series of the signal $x(t)$:\n",
    "\n",
    "$$\n",
    "x(t) = 3 \\cos( 5t) + 4 \\sin( 10t)\n",
    "$$\n",
    "\n",
    "[5 marks]"
   ]
  },
  {
   "cell_type": "markdown",
   "id": "897d8664-70ae-42c7-b0f9-0ce44e484793",
   "metadata": {},
   "source": [
    "To find the complex Fourier series of $ x(t) = 3\\cos(5t) + 4\\sin(10t) $, we use Euler's identity:\n",
    "\n",
    "$\n",
    "\\cos(\\omega t) = \\frac{e^{j\\omega t} + e^{-j\\omega t}}{2}, \\quad \\sin(\\omega t) = \\frac{e^{j\\omega t} - e^{-j\\omega t}}{2j}.\n",
    "$\n",
    "\n",
    "#### Step 1: Rewrite $ \\cos(5t) $ and $ \\sin(10t) $ using Euler's identity\n",
    "\n",
    "1. $ 3\\cos(5t) $:\n",
    "$\n",
    "3\\cos(5t) = \\frac{3}{2}e^{j5t} + \\frac{3}{2}e^{-j5t}.\n",
    "$\n",
    "\n",
    "2. $ 4\\sin(10t) $:\n",
    "$\n",
    "4\\sin(10t) = \\frac{4}{2j}(e^{j10t} - e^{-j10t})\n",
    "$\n",
    "\n",
    "Recall:$\n",
    "\\frac{1}{j} = \\frac{j}{j^2} = \\frac{j}{-1} = -j\n",
    "$\n",
    "\n",
    "$\n",
    "\\begin{align*}\n",
    "4\\sin(10t) &= \\frac{4}{2j}(e^{j10t} - e^{-j10t}) =  \\frac{2}{j}(e^{j10t} - e^{-j10t}) = \\frac{2}{j}e^{j10t} - \\frac{2}{j}e^{-j10t} \\\\\n",
    "&= \\frac{2j}{j^2}e^{j10t} - \\frac{2j}{j^2}e^{-j10t} = \\frac{2j}{-1}e^{j10t} - \\frac{2j}{-1}e^{-j10t} = -2je^{j10t} + 2je^{-j10t}.\n",
    "\\end{align*}\n",
    "$\n",
    "\n",
    "\n",
    "\n",
    "Thus,\n",
    "$\n",
    "x(t) = \\frac{3}{2}e^{j5t} + \\frac{3}{2}e^{-j5t} - 2je^{j10t} + 2je^{-j10t}.\n",
    "$\n",
    "\n",
    "#### Step 2: Group the terms\n",
    "\n",
    "The complex Fourier series representation of $ x(t) $ is:\n",
    "$\n",
    "x(t) = \\sum\\limits_{k=-\\infty}^\\infty c_k e^{jk\\omega_0 t},\n",
    "$\n",
    "where $ c_k $ are the complex Fourier coefficients.\n",
    "\n",
    "Here, $ x(t) $ has terms at frequencies $ \\pm 5 $ and $ \\pm 10 $. The coefficients $ c_k $ are:\n",
    "\n",
    "- At $ k = 5 $: $ c_5 = \\frac{3}{2} $,\n",
    "- At $ k = -5 $: $ c_{-5} = \\frac{3}{2} $,\n",
    "- At $ k = 10 $: $ c_{10} = -2j $,\n",
    "- At $ k = -10 $: $ c_{-10} = 2j $,\n",
    "- All other $ c_k = 0 $.\n",
    "\n",
    "### Final Answer:\n",
    "The complex Fourier series of $ x(t) $ is:\n",
    "$\n",
    "x(t) = \\frac{3}{2}e^{j5t} + \\frac{3}{2}e^{-j5t} - 2je^{j10t} + 2je^{-j10t}.\n",
    "$"
   ]
  },
  {
   "cell_type": "code",
   "execution_count": null,
   "id": "ef1a416b-4c93-42f0-90b3-f11da5afb19b",
   "metadata": {},
   "outputs": [],
   "source": []
  }
 ],
 "metadata": {
  "kernelspec": {
   "display_name": "Julia 1.11.1",
   "language": "julia",
   "name": "julia-1.11"
  },
  "language_info": {
   "file_extension": ".jl",
   "mimetype": "application/julia",
   "name": "julia",
   "version": "1.11.1"
  }
 },
 "nbformat": 4,
 "nbformat_minor": 5
}

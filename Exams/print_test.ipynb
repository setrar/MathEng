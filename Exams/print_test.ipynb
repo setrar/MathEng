{
 "cells": [
  {
   "cell_type": "markdown",
   "id": "06c4429a-209a-4491-be9c-c1a3ad9d25d0",
   "metadata": {},
   "source": [
    "#Passed\n",
    "\n",
    "## Requires 2 dollar signs\n",
    "- $$\n",
    "x(t) =\n",
    "\\begin{cases} \n",
    "5, & 0 \\leq t \\leq 0.2, \\\\\n",
    "0, & \\text{otherwise}.\n",
    "\\end{cases}\n",
    "$$\n",
    "\n",
    "- $$\n",
    "\\int e^{-j 2 \\pi f t} dt = \\frac{e^{-j 2 \\pi f t}}{-j 2 \\pi f}.\n",
    "$$\n",
    "\n",
    "- $$\n",
    "X(f) = 5 \\left[ \\frac{e^{-j 2 \\pi f t}}{-j 2 \\pi f} \\right]_0^{0.2}.\n",
    "$$\n",
    "\n",
    "- $$\n",
    "-2j\\sin\\left(\\frac{\\theta}{2}\\right) \n",
    "$$\n",
    "\n",
    "- $$\n",
    "X(f) = \\frac{5}{-j 2 \\pi f} \\cdot -2j \\sin(0.2 \\pi f) e^{-j 0.2 \\pi f}.\n",
    "$$\n",
    "\n",
    "## requires no blank space\n",
    "\n",
    "- $e^{-j \\frac{\\theta}{2}}$\n"
   ]
  },
  {
   "cell_type": "markdown",
   "id": "5372c769-ba31-4e5a-bcd5-0333619cb091",
   "metadata": {},
   "source": [
    "   \n",
    "\n",
    "\n"
   ]
  },
  {
   "cell_type": "markdown",
   "id": "6a50d9e9-8682-4ec7-9317-d45bbba71fd6",
   "metadata": {},
   "source": [
    "$\n",
    "H(s) = \\frac{1000 \\left( \\frac{s}{100} + 1 \\right)}{s^2 + 2(0.1)(10)s + 10^2}.\n",
    "$\n"
   ]
  },
  {
   "cell_type": "code",
   "execution_count": null,
   "id": "8999e71c-2262-475c-a411-35f81138517a",
   "metadata": {},
   "outputs": [],
   "source": []
  }
 ],
 "metadata": {
  "kernelspec": {
   "display_name": "Julia 1.11.1",
   "language": "julia",
   "name": "julia-1.11"
  },
  "language_info": {
   "file_extension": ".jl",
   "mimetype": "application/julia",
   "name": "julia",
   "version": "1.11.1"
  }
 },
 "nbformat": 4,
 "nbformat_minor": 5
}

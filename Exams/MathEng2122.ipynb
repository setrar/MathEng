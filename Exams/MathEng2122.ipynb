{
 "cells": [
  {
   "cell_type": "markdown",
   "id": "71807bbb-ed66-46c4-bf06-6f91a61dc0b3",
   "metadata": {
    "editable": true,
    "slideshow": {
     "slide_type": ""
    },
    "tags": []
   },
   "source": [
    "***Mathematical Methods for Engineers (MathEng)***\n",
    "\n",
    "**EXAM**\n",
    "\n",
    "**December 2021**\n",
    "```\n",
    "Duration: 2 hrs, all documents and calculators permitted\n",
    "ATTEMPT ALL QUESTIONS – ANSWER IN ENGLISH\n",
    "```"
   ]
  },
  {
   "cell_type": "code",
   "execution_count": null,
   "id": "ae463310-5afe-4a07-bb96-474bb2423f37",
   "metadata": {},
   "outputs": [],
   "source": []
  }
 ],
 "metadata": {
  "kernelspec": {
   "display_name": "Julia 1.11.1",
   "language": "julia",
   "name": "julia-1.11"
  },
  "language_info": {
   "file_extension": ".jl",
   "mimetype": "application/julia",
   "name": "julia",
   "version": "1.11.1"
  }
 },
 "nbformat": 4,
 "nbformat_minor": 5
}

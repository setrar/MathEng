{
 "cells": [
  {
   "cell_type": "markdown",
   "id": "47bbf652-2734-4a15-a4dc-5669c940469d",
   "metadata": {},
   "source": [
    "# Sketch the convolution\n",
    "\n",
    "![image](images/Fig_sketch_convo.png)\n",
    "\n",
    "[4 points]"
   ]
  },
  {
   "cell_type": "markdown",
   "id": "9a6f7c66-5edf-43d2-a86d-8a2caf4a0cb5",
   "metadata": {},
   "source": []
  },
  {
   "cell_type": "markdown",
   "id": "f8e427f8-8ce7-4cfe-bd86-9682b4d620d4",
   "metadata": {},
   "source": [
    "# **Give the Inverse Laplace**\n",
    "\n",
    "\n",
    "$H(s) = \\frac{3s + 7}{s^2 - 2s - 3}$\n",
    "\n",
    "[5 points]\n"
   ]
  },
  {
   "cell_type": "code",
   "execution_count": null,
   "id": "4e4e1de9-c994-485f-bc1a-d638e0725157",
   "metadata": {},
   "outputs": [],
   "source": []
  },
  {
   "cell_type": "markdown",
   "id": "351cbf83-a728-4da4-a544-7e069e5a9058",
   "metadata": {},
   "source": [
    "# **Causal LTI**\n",
    "\n",
    "Input: \n",
    "$x[n] = \\left(\\frac{1}{2}\\right)^n u[n] - \\frac{1}{4} \\left( \\frac{1}{2}\\right)^{n-1} u[n-1]$\n",
    "\n",
    "as output:\n",
    "$y[n] = \\left(\\frac{1}{3}\\right)^n u[n]$\n",
    "\n",
    "$u[n]$ is the unit step function.\n",
    "\n",
    "Determine:\n",
    "- The transfer function $H(z)$\n",
    "- The impulse response $h[n]$\n",
    "- The corresponding difference equation\n",
    "\n",
    "Hint: Except for the scalar, the second component of $x[n]$ is identical to the 1st component with a unit delay.\n",
    "\n",
    "[8 points]"
   ]
  },
  {
   "cell_type": "code",
   "execution_count": null,
   "id": "d58016fc-9c59-4f93-a6f0-05b6c619cdbd",
   "metadata": {},
   "outputs": [],
   "source": []
  },
  {
   "cell_type": "markdown",
   "id": "14165b11-3f0b-4264-9b41-772e7c8656b6",
   "metadata": {},
   "source": [
    "# **Continuous-time signal**\n",
    "\n",
    "**Continuous-time signal** contains 2 frequencies\n",
    "\n",
    "$x_1 = 1605 \\text{ Hz}$\n",
    "\n",
    "$x_2 = 1645 \\text{ Hz}$\n",
    "\n",
    "sampled at $10 \\text{ kHz}$.\n",
    "\n",
    "Given 200 samples, state whether or not it is possible to resolve the two frequencies using DFT.\n",
    "\n",
    "Discuss leakage and windowing.\n",
    "\n",
    "[4 points]"
   ]
  },
  {
   "cell_type": "code",
   "execution_count": null,
   "id": "c580e504-351c-4a24-82d8-0107f9069b75",
   "metadata": {},
   "outputs": [],
   "source": []
  },
  {
   "cell_type": "markdown",
   "id": "c2c44948-0c18-477f-a4d7-cedf11b7bc8b",
   "metadata": {},
   "source": [
    "# PDF of\n",
    "\n",
    "$f(x) = A e^{- \\lambda x}$\n",
    "\n",
    "[8 points]"
   ]
  },
  {
   "cell_type": "markdown",
   "id": "0b92a19d-5181-4134-bc2d-13ce88459f77",
   "metadata": {},
   "source": [
    "---\n",
    "\n",
    "Here is the probability density function (PDF) for the exponential distribution:\n",
    "\n",
    "$f(x) = \\begin{cases} A e^{-\\lambda x}, & x \\geq 0 \\\\ 0, & x < 0 \\end{cases}$\n",
    "\n",
    "where:  \n",
    "- $A$ is a scaling factor (often set to $\\lambda$ to ensure normalization).  \n",
    "- $\\lambda > 0$ is the rate parameter.\n",
    "\n",
    "If the function represents a valid probability density function, then it must satisfy the normalization condition:\n",
    "\n",
    "$\\int_0^\\infty A e^{-\\lambda x} \\, dx = 1$\n",
    "\n",
    "Solving for $A$:\n",
    "\n",
    "$A \\int_0^\\infty e^{-\\lambda x} \\, dx = 1$\n",
    "\n",
    "$A \\left[ \\frac{e^{-\\lambda x}}{-\\lambda} \\right]_0^\\infty = 1$\n",
    "\n",
    "$A \\left( 0 - \\left(-\\frac{1}{\\lambda}\\right) \\right) = 1$\n",
    "\n",
    "$A \\cdot \\frac{1}{\\lambda} = 1$\n",
    "\n",
    "$A = \\lambda$\n",
    "\n",
    "Thus, the standard form of the exponential distribution PDF is:\n",
    "\n",
    "$f(x) = \\begin{cases} \\lambda e^{-\\lambda x}, & x \\geq 0 \\\\ 0, & x < 0 \\end{cases}$\n",
    "\n",
    "Let me know if you need further clarifications!"
   ]
  },
  {
   "cell_type": "code",
   "execution_count": null,
   "id": "29dc678e-730e-4dc7-aa66-00e664841fdb",
   "metadata": {},
   "outputs": [],
   "source": []
  },
  {
   "cell_type": "markdown",
   "id": "8e9fc919-b427-4f93-8745-3d3c26e78bef",
   "metadata": {},
   "source": [
    "# Linear Algebra 1\n",
    "\n",
    "[4 points]"
   ]
  },
  {
   "cell_type": "code",
   "execution_count": null,
   "id": "20ef1f55-9a62-4668-bcda-eda27ad7b24a",
   "metadata": {},
   "outputs": [],
   "source": []
  },
  {
   "cell_type": "markdown",
   "id": "d1076473-94b7-4fd0-bdce-a38fdc9e20fb",
   "metadata": {},
   "source": [
    "# Linear Algebra 2\n",
    "\n",
    "[8 points]"
   ]
  },
  {
   "cell_type": "code",
   "execution_count": null,
   "id": "2106572d-f0b6-4ad7-9845-8bc533e4009e",
   "metadata": {},
   "outputs": [],
   "source": []
  }
 ],
 "metadata": {
  "kernelspec": {
   "display_name": "Julia 1.11.3",
   "language": "julia",
   "name": "julia-1.11"
  },
  "language_info": {
   "file_extension": ".jl",
   "mimetype": "application/julia",
   "name": "julia",
   "version": "1.11.3"
  }
 },
 "nbformat": 4,
 "nbformat_minor": 5
}

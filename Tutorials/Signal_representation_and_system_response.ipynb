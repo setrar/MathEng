{
 "cells": [
  {
   "cell_type": "markdown",
   "id": "ad1be4c5-3075-40c4-906c-5584fadd033e",
   "metadata": {},
   "source": [
    "| |\n",
    "|:-:|\n",
    "| <img src=images/logo.png width='50%' height='50%' > </img> |\n",
    "| Essential Mathematical Methods for Engineers (MathEng) |\n",
    "| | \n",
    "| Signal representation and system response |"
   ]
  },
  {
   "cell_type": "markdown",
   "id": "d2bccdf2-5317-4cec-a307-d93d7cda375f",
   "metadata": {},
   "source": [
    "1. A voltage signal $v(t)$ is connected across a 5 Ω resistor at $t = 0$. If the voltage is defined by:\n",
    "$$\n",
    "v(t) = 2exp(-3t) + 4exp(-7t)\n",
    "$$\n",
    "What is the total energy dissipated in the resistor?"
   ]
  },
  {
   "cell_type": "markdown",
   "id": "223700a8-5035-42ef-a310-2637d310c022",
   "metadata": {},
   "source": [
    "To find the total energy dissipated in the resistor, we first calculate the instantaneous power dissipated at any time ￼, and then integrate this power over time to find the total energy.\n",
    "\n",
    "The power dissipated in a resistor is given by:\n",
    "\n",
    "￼\n",
    "$$ P(t) = \\frac{v^2(t)}{R} $$\n",
    "\n",
    "\n",
    "where ￼ is the voltage across the resistor, and ￼ is the resistance. In this case, the resistance ￼, and the voltage across the resistor is:\n",
    "\n",
    "￼\n",
    "\n",
    "First, compute ￼:\n",
    "\n",
    "￼\n",
    "\n",
    "Expanding this:\n",
    "\n",
    "￼\n",
    "\n",
    "Now, the power ￼ dissipated at any time ￼ is:\n",
    "\n",
    "￼\n",
    "\n",
    "Now, to find the total energy dissipated, we integrate the power over time from ￼ to ￼:\n",
    "\n",
    "￼\n",
    "\n",
    "Substitute the expression for ￼:\n",
    "\n",
    "￼\n",
    "\n",
    "We can separate this into three integrals:\n",
    "\n",
    "￼\n",
    "\n",
    "The integral of ￼ is ￼, so we compute each term:\n",
    "\n",
    "￼\n",
    "\n",
    "Now substitute these values back into the expression for ￼:\n",
    "\n",
    "￼\n",
    "\n",
    "Simplifying each term:\n",
    "\n",
    "￼\n",
    "\n",
    "Finding a common denominator:\n",
    "\n",
    "￼\n",
    "\n",
    "￼\n",
    "\n",
    "￼\n",
    "\n",
    "Thus, the total energy dissipated in the resistor is approximately ￼."
   ]
  },
  {
   "cell_type": "code",
   "execution_count": null,
   "id": "5a18faa4-e848-4653-a472-e9265d10bf73",
   "metadata": {},
   "outputs": [],
   "source": []
  }
 ],
 "metadata": {
  "kernelspec": {
   "display_name": "Julia 1.10.5",
   "language": "julia",
   "name": "julia-1.10"
  },
  "language_info": {
   "file_extension": ".jl",
   "mimetype": "application/julia",
   "name": "julia",
   "version": "1.10.5"
  }
 },
 "nbformat": 4,
 "nbformat_minor": 5
}

{
 "cells": [
  {
   "cell_type": "markdown",
   "id": "02dc5db1-817d-4ba2-8509-4966806431f3",
   "metadata": {},
   "source": [
    "| |\n",
    "|:-:|\n",
    "| <img src=images/logo.png width='50%' height='50%' > </img> |\n",
    "| Essential Mathematical Methods for Engineers (MathEng) |\n",
    "| | \n",
    "| Probability and random variables |"
   ]
  },
  {
   "cell_type": "markdown",
   "id": "e9e23cf6-3fef-4385-8a87-a809b1e587fc",
   "metadata": {},
   "source": [
    "### 1. Show that if two events are mutually exclusive and statistically independent, the probability of one, or both, is zero."
   ]
  },
  {
   "cell_type": "markdown",
   "id": "d9f29b59-78ef-47f0-a420-76de22549d57",
   "metadata": {},
   "source": [
    "\n",
    "If $A$ & $B$ are mutually exclusive $P(A|B) = P(B|A) = 0$. If they are statistically independent then $P(A|B) = P(A)$ & $P(B|A) = P(B)$. The only way for both of there condition to be true is for $P(A) = P(B) = 0$."
   ]
  },
  {
   "cell_type": "code",
   "execution_count": null,
   "id": "2828e351-cc1a-4009-9703-c2f1426da71c",
   "metadata": {},
   "outputs": [],
   "source": []
  }
 ],
 "metadata": {
  "kernelspec": {
   "display_name": "Julia 1.10.5",
   "language": "julia",
   "name": "julia-1.10"
  },
  "language_info": {
   "file_extension": ".jl",
   "mimetype": "application/julia",
   "name": "julia",
   "version": "1.10.5"
  }
 },
 "nbformat": 4,
 "nbformat_minor": 5
}

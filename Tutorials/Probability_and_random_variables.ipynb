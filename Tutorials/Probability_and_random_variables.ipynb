{
 "cells": [
  {
   "cell_type": "markdown",
   "id": "02dc5db1-817d-4ba2-8509-4966806431f3",
   "metadata": {},
   "source": [
    "| |\n",
    "|:-:|\n",
    "| <img src=images/logo.png width='50%' height='50%' > </img> |\n",
    "| Essential Mathematical Methods for Engineers (MathEng) |\n",
    "| | \n",
    "| Probability and random variables |"
   ]
  },
  {
   "cell_type": "markdown",
   "id": "e9e23cf6-3fef-4385-8a87-a809b1e587fc",
   "metadata": {},
   "source": [
    "### 1. Show that if two events are mutually exclusive and statistically independent, the probability of one, or both, is zero."
   ]
  },
  {
   "cell_type": "code",
   "execution_count": null,
   "id": "470d4cbe-5f42-4ea7-b07f-0b51994a9fa1",
   "metadata": {},
   "outputs": [],
   "source": []
  }
 ],
 "metadata": {
  "kernelspec": {
   "display_name": "Julia 1.10.5",
   "language": "julia",
   "name": "julia-1.10"
  },
  "language_info": {
   "file_extension": ".jl",
   "mimetype": "application/julia",
   "name": "julia",
   "version": "1.10.5"
  }
 },
 "nbformat": 4,
 "nbformat_minor": 5
}

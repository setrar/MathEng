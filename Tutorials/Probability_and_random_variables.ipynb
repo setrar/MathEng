{
 "cells": [
  {
   "cell_type": "markdown",
   "id": "02dc5db1-817d-4ba2-8509-4966806431f3",
   "metadata": {},
   "source": [
    "| |\n",
    "|-:|\n",
    "| <img src=images/logo.png width='50%' height='50%' > </img> |\n",
    "\n",
    " ### Essential Mathematical Methods for Engineers (MathEng)"
   ]
  },
  {
   "cell_type": "code",
   "execution_count": null,
   "id": "4a5b4297-0570-49e4-8ee1-235c52ed3635",
   "metadata": {},
   "outputs": [],
   "source": []
  },
  {
   "cell_type": "code",
   "execution_count": null,
   "id": "470d4cbe-5f42-4ea7-b07f-0b51994a9fa1",
   "metadata": {},
   "outputs": [],
   "source": []
  }
 ],
 "metadata": {
  "kernelspec": {
   "display_name": "Julia 1.10.5",
   "language": "julia",
   "name": "julia-1.10"
  },
  "language_info": {
   "file_extension": ".jl",
   "mimetype": "application/julia",
   "name": "julia",
   "version": "1.10.5"
  }
 },
 "nbformat": 4,
 "nbformat_minor": 5
}

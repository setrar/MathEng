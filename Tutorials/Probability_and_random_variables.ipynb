{
 "cells": [
  {
   "cell_type": "markdown",
   "id": "02dc5db1-817d-4ba2-8509-4966806431f3",
   "metadata": {},
   "source": [
    "| |\n",
    "|:-:|\n",
    "| <img src=images/logo.png width='50%' height='50%' > </img> |\n",
    "| Essential Mathematical Methods for Engineers (MathEng) |\n",
    "| | \n",
    "| Probability and random variables |"
   ]
  },
  {
   "cell_type": "markdown",
   "id": "e9e23cf6-3fef-4385-8a87-a809b1e587fc",
   "metadata": {},
   "source": [
    "#### 1. Show that if two events are mutually exclusive and statistically independent, the probability of one, or both, is zero."
   ]
  },
  {
   "cell_type": "markdown",
   "id": "d9f29b59-78ef-47f0-a420-76de22549d57",
   "metadata": {},
   "source": [
    "\n",
    "If $A$ & $B$ are mutually exclusive $P(A|B) = P(B|A) = 0$. If they are statistically independent then $P(A|B) = P(A)$ & $P(B|A) = P(B)$. The only way for both of there condition to be true is for $P(A) = P(B) = 0$."
   ]
  },
  {
   "cell_type": "markdown",
   "id": "525abd22-3430-4be1-b9fe-147fc93dd40a",
   "metadata": {},
   "source": [
    "#### 2. Given a binary communication channel where $A = \\text{input}$ and $B = \\text{output}$, let $P(A) = 0.4$ and, $P(B|A) = 0.9$, and $P(\\bar{B}|\\bar{A}) = 0.6$. Find $P(A|\\bar{B})$."
   ]
  },
  {
   "cell_type": "code",
   "execution_count": null,
   "id": "e5b9977f-3a8b-4522-a56f-35b69fbd03d5",
   "metadata": {},
   "outputs": [],
   "source": []
  },
  {
   "cell_type": "markdown",
   "id": "ad9161f4-42b0-4777-a8ad-ed8e49322e93",
   "metadata": {},
   "source": [
    "#### 3. Given the table of joint probabilities\n",
    "\n",
    "| | $B_1$ | $B_2$ | $B_3$ | $P(A)$ | \n",
    "|-|-|-|-|-|\n",
    "| $A_1$ | | | |\n"
   ]
  },
  {
   "cell_type": "markdown",
   "id": "9be072be-7f84-4013-8bcf-8e7b6f373416",
   "metadata": {},
   "source": [
    "# References\n",
    "\n",
    "- [ ] [2022 Probability Concepts for Engineers\n",
    "Bobak Nazer](https://www.youtube.com/playlistlist=PLBV8cFFHvjMrrpoaRzHqu3dkCNZAiWMu2)"
   ]
  },
  {
   "cell_type": "code",
   "execution_count": null,
   "id": "258c9bc8-5d3d-49ce-b676-a71ffef37316",
   "metadata": {},
   "outputs": [],
   "source": []
  }
 ],
 "metadata": {
  "kernelspec": {
   "display_name": "Julia 1.10.5",
   "language": "julia",
   "name": "julia-1.10"
  },
  "language_info": {
   "file_extension": ".jl",
   "mimetype": "application/julia",
   "name": "julia",
   "version": "1.10.5"
  }
 },
 "nbformat": 4,
 "nbformat_minor": 5
}

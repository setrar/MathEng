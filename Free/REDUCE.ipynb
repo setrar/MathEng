{
 "cells": [
  {
   "cell_type": "markdown",
   "id": "ccefab19-3a64-4068-b848-7611208fc2e8",
   "metadata": {},
   "source": [
    "Let's row reduce the augmented matrix:\n",
    "\n",
    "$\\left( \\begin{array}{ccc|c} 1 & -2 & 3 & 0 \\\\ 1 &  0 & -5 & 0 \\end{array} \\right)$\n",
    "\n",
    "#### Step 1: Eliminate the leading 1 in Row 2 (R2) using Row 1 (R1):\n",
    "\n",
    "Subtract Row 1 from Row 2:  \n",
    "$R_2 \\leftarrow R_2 - R_1$\n",
    "\n",
    "$\\left( \\begin{array}{ccc|c} 1 & -2 & 3 & 0 \\\\ 0 & 2 & -8 & 0 \\end{array} \\right)$\n",
    "\n",
    "#### Step 2: Make the leading coefficient of Row 2 a 1\n",
    "\n",
    "$R_2 \\leftarrow \\frac{1}{2} R_2$\n",
    "\n",
    "$\\left( \\begin{array}{ccc|c} 1 & -2 & 3 & 0 \\\\ 0 & 1 & -4 & 0 \\end{array} \\right)$\n",
    "\n",
    "#### Step 3: Eliminate the second entry of Row 1 (the -2)\n",
    "\n",
    "$R_1 \\leftarrow R_1 + 2 R_2$\n",
    "\n",
    "$\\left( \\begin{array}{ccc|c} 1 & 0 & -5 & 0 \\\\ 0 & 1 & -4 & 0 \\end{array} \\right)$\n",
    "\n",
    "#### Final Reduced Row Echelon Form (RREF):\n",
    "\n",
    "$\\boxed{ \\left( \\begin{array}{ccc|c} 1 & 0 & -5 & 0 \\\\ 0 & 1 & -4 & 0 \\end{array} \\right) }$\n",
    "\n",
    "This tells us:\n",
    "- $x_1 = 5x_3$\n",
    "- $x_2 = 4x_3$\n",
    "- $x_3$ is a free variable\n",
    "\n",
    "So the general solution to the system is:\n",
    "$\\begin{bmatrix} x_1 \\\\ x_2 \\\\ x_3 \\end{bmatrix} = x_3 \\begin{bmatrix} 5 \\\\ 4 \\\\ 1 \\end{bmatrix}$\n"
   ]
  },
  {
   "cell_type": "code",
   "execution_count": null,
   "id": "95edbd85-4de1-4e84-adfb-da76fe4d955d",
   "metadata": {},
   "outputs": [],
   "source": []
  }
 ],
 "metadata": {
  "kernelspec": {
   "display_name": "Julia 1.11.3",
   "language": "julia",
   "name": "julia-1.11"
  },
  "language_info": {
   "file_extension": ".jl",
   "mimetype": "application/julia",
   "name": "julia",
   "version": "1.11.3"
  }
 },
 "nbformat": 4,
 "nbformat_minor": 5
}

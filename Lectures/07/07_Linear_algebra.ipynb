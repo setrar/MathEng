{
 "cells": [
  {
   "cell_type": "markdown",
   "id": "2ba03075-d0fe-44ec-b579-e122741c3e1b",
   "metadata": {},
   "source": [
    "## Projections"
   ]
  },
  {
   "cell_type": "markdown",
   "id": "3b850b97-c690-4ec4-894b-8b767fffc85d",
   "metadata": {},
   "source": [
    "## Example:\n",
    "\n",
    "Project b = $\\begin{bmatrix} 1 & 1 & 1 \\end{bmatrix}^T$ onto a = $\\begin{bmatrix} 1 & 2 & 2 \\end{bmatrix}^T$ to find p"
   ]
  },
  {
   "cell_type": "markdown",
   "id": "3a1c6e6b-7783-491c-b6d4-d94e2f1613d6",
   "metadata": {},
   "source": [
    "To project $ \\mathbf{b} = \\begin{bmatrix} 1 \\\\ 1 \\\\ 1 \\end{bmatrix} $ onto $ \\mathbf{a} = \\begin{bmatrix} 1 \\\\ 2 \\\\ 2 \\end{bmatrix} $, we use the formula for the projection:\n",
    "\n",
    "$\n",
    "\\boxed{\n",
    "\\mathbf{p} = \\text{proj}_{\\mathbf{a}} \\mathbf{b} = \\frac{\\mathbf{a}^\\top \\mathbf{b}}{\\mathbf{a}^\\top \\mathbf{a}} \\mathbf{a}.\n",
    "}\n",
    "$\n",
    "\n",
    "### Step 1: Compute $ \\mathbf{a}^\\top \\mathbf{b} $\n",
    "$\n",
    "\\mathbf{a}^\\top \\mathbf{b} = \\begin{bmatrix} 1 & 2 & 2 \\end{bmatrix} \\begin{bmatrix} 1 \\\\ 1 \\\\ 1 \\end{bmatrix} = (1)(1) + (2)(1) + (2)(1) = 1 + 2 + 2 = 5.\n",
    "$\n",
    "\n",
    "### Step 2: Compute $ \\mathbf{a}^\\top \\mathbf{a} $\n",
    "$\n",
    "\\mathbf{a}^\\top \\mathbf{a} = \\begin{bmatrix} 1 & 2 & 2 \\end{bmatrix} \\begin{bmatrix} 1 \\\\ 2 \\\\ 2 \\end{bmatrix} = (1)(1) + (2)(2) + (2)(2) = 1 + 4 + 4 = 9.\n",
    "$\n",
    "\n",
    "### Step 3: Compute the scalar $ \\frac{\\mathbf{a}^\\top \\mathbf{b}}{\\mathbf{a}^\\top \\mathbf{a}} $\n",
    "$\n",
    "\\frac{\\mathbf{a}^\\top \\mathbf{b}}{\\mathbf{a}^\\top \\mathbf{a}} = \\frac{5}{9}.\n",
    "$\n",
    "\n",
    "### Step 4: Compute $ \\mathbf{p} $\n",
    "$\n",
    "\\mathbf{p} = \\frac{5}{9} \\mathbf{a} = \\frac{5}{9} \\begin{bmatrix} 1 \\\\ 2 \\\\ 2 \\end{bmatrix} = \\begin{bmatrix} \\frac{5}{9} \\\\ \\frac{10}{9} \\\\ \\frac{10}{9} \\end{bmatrix}.\n",
    "$\n",
    "\n",
    "---\n",
    "\n",
    "### Final Answer:\n",
    "The projection of $ \\mathbf{b} $ onto $ \\mathbf{a} $ is:\n",
    "\n",
    "$\n",
    "\\mathbf{p} = \\begin{bmatrix} \\frac{5}{9} \\\\ \\frac{10}{9} \\\\ \\frac{10}{9} \\end{bmatrix}.\n",
    "$\n",
    "\n",
    "## What happens if we project this new vector again?\n",
    "\n",
    "If we project the new vector $ \\mathbf{p} = \\begin{bmatrix} \\frac{5}{9} \\\\ \\frac{10}{9} \\\\ \\frac{10}{9} \\end{bmatrix} $ onto $ \\mathbf{a} = \\begin{bmatrix} 1 \\\\ 2 \\\\ 2 \\end{bmatrix} $ again, the result will remain the same as $ \\mathbf{p} $.\n",
    "\n",
    "### Explanation:\n",
    "\n",
    "The projection $ \\mathbf{p} = \\text{proj}_{\\mathbf{a}} \\mathbf{b} $ lies entirely in the subspace spanned by $ \\mathbf{a} $. This means projecting $ \\mathbf{p} $ onto $ \\mathbf{a} $ again won't change it, because $ \\mathbf{p} $ is already a scaled version of $ \\mathbf{a} $. Mathematically:\n",
    "\n",
    "$\n",
    "\\mathbf{p} = c \\mathbf{a} \\quad \\text{for some scalar } c.\n",
    "$\n",
    "\n",
    "When we project $ \\mathbf{p} $ onto $ \\mathbf{a} $, the formula for projection gives:\n",
    "\n",
    "$\n",
    "\\text{proj}_{\\mathbf{a}} \\mathbf{p} = \\frac{\\mathbf{a}^\\top \\mathbf{p}}{\\mathbf{a}^\\top \\mathbf{a}} \\mathbf{a}.\n",
    "$\n",
    "\n",
    "Since $ \\mathbf{p} $ is already a multiple of $ \\mathbf{a} $, the ratio $ \\frac{\\mathbf{a}^\\top \\mathbf{p}}{\\mathbf{a}^\\top \\mathbf{a}} $ will simply return the same scaling factor $ c $, and hence:\n",
    "\n",
    "$\n",
    "\\text{proj}_{\\mathbf{a}} \\mathbf{p} = \\mathbf{p}.\n",
    "$\n",
    "\n",
    "### Conclusion:\n",
    "\n",
    "If you project $ \\mathbf{p} $ onto $ \\mathbf{a} $ again, you get $ \\mathbf{p} $ itself. This property holds because projection is **idempotent**, meaning:\n",
    "\n",
    "$\n",
    "\\text{proj}_{\\mathbf{a}}(\\text{proj}_{\\mathbf{a}}(\\mathbf{b})) = \\text{proj}_{\\mathbf{a}}(\\mathbf{b}).\n",
    "$"
   ]
  },
  {
   "cell_type": "code",
   "execution_count": 2,
   "id": "4dca798f-3c7b-4fb3-b2a6-20db5a821a67",
   "metadata": {},
   "outputs": [
    {
     "name": "stdout",
     "output_type": "stream",
     "text": [
      "Column Space Basis:\n",
      "[0.2672612419124244; 0.5345224838248488; 0.8017837257372732;;]\n",
      "\n",
      "Row Space Basis:\n",
      "[0.18257418583505536; 0.3651483716701107; 0.5477225575051661; 0.7302967433402214;;]\n",
      "\n",
      "Null Space Basis:\n",
      "[0.9831920802501752 6.1422239447915636e-18; -0.06780635036208123 -0.769121982559483; -0.10170952554312163 -0.263556126371951; -0.13561270072416212 0.5822280860587048]\n",
      "\n",
      "Left Null Space Basis:\n",
      "[0.6005550719313077 -0.7535947413225562; -0.7430915488748643 -0.4026172677326068; 0.2952093419394735 0.5196097589292565]\n"
     ]
    }
   ],
   "source": [
    "using LinearAlgebra\n",
    "\n",
    "# Define matrix A\n",
    "A = [1 2 3 4;\n",
    "     2 4 6 8;\n",
    "     3 6 9 12]\n",
    "\n",
    "# Compute Column Space (span of A's columns)\n",
    "U, S, V = svd(A)  # Singular Value Decomposition\n",
    "rank_A = rank(A)\n",
    "col_space = U[:, 1:rank_A]  # First r columns of U\n",
    "\n",
    "# Compute Row Space (span of A's rows)\n",
    "row_space = V[:, 1:rank_A]  # First r columns of V\n",
    "\n",
    "# Compute Null Space (solutions to Ax = 0)\n",
    "_, _, Vh = svd(A)\n",
    "null_space_A = Vh[:, rank_A+1:end]  # Last (n-r) columns of V\n",
    "\n",
    "# Compute Left Null Space (solutions to Aᵀy = 0)\n",
    "_, _, Uh = svd(A')\n",
    "left_null_space_A = Uh[:, rank_A+1:end]  # Last (m-r) columns of U\n",
    "\n",
    "# Display results\n",
    "println(\"Column Space Basis:\")\n",
    "println(col_space)\n",
    "println(\"\\nRow Space Basis:\")\n",
    "println(row_space)\n",
    "println(\"\\nNull Space Basis:\")\n",
    "println(null_space_A)\n",
    "println(\"\\nLeft Null Space Basis:\")\n",
    "println(left_null_space_A)"
   ]
  },
  {
   "cell_type": "code",
   "execution_count": null,
   "id": "21bc436f-347f-450d-83ea-10e2846c8b79",
   "metadata": {},
   "outputs": [],
   "source": []
  }
 ],
 "metadata": {
  "kernelspec": {
   "display_name": "Julia 1.11.3",
   "language": "julia",
   "name": "julia-1.11"
  },
  "language_info": {
   "file_extension": ".jl",
   "mimetype": "application/julia",
   "name": "julia",
   "version": "1.11.3"
  }
 },
 "nbformat": 4,
 "nbformat_minor": 5
}

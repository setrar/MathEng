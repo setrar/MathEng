{
 "cells": [
  {
   "cell_type": "markdown",
   "id": "2ba03075-d0fe-44ec-b579-e122741c3e1b",
   "metadata": {},
   "source": [
    "## Projections"
   ]
  },
  {
   "cell_type": "markdown",
   "id": "3b850b97-c690-4ec4-894b-8b767fffc85d",
   "metadata": {},
   "source": [
    "## Example:\n",
    "\n",
    "Project b = $\\begin{bmatrix} 1 & 1 & 1 \\end{bmatrix}^T$ onto a = $\\begin{bmatrix} 1 & 2 & 2 \\end{bmatrix}^T$ to find p"
   ]
  },
  {
   "cell_type": "markdown",
   "id": "3a1c6e6b-7783-491c-b6d4-d94e2f1613d6",
   "metadata": {},
   "source": [
    "To project $ \\mathbf{b} = \\begin{bmatrix} 1 \\\\ 1 \\\\ 1 \\end{bmatrix} $ onto $ \\mathbf{a} = \\begin{bmatrix} 1 \\\\ 2 \\\\ 2 \\end{bmatrix} $, we use the formula for the projection:\n",
    "\n",
    "$\n",
    "\\boxed{\n",
    "\\mathbf{p} = \\text{proj}_{\\mathbf{a}} \\mathbf{b} = \\frac{\\mathbf{a}^\\top \\mathbf{b}}{\\mathbf{a}^\\top \\mathbf{a}} \\mathbf{a}.\n",
    "}\n",
    "$\n",
    "\n",
    "### Step 1: Compute $ \\mathbf{a}^\\top \\mathbf{b} $\n",
    "$\n",
    "\\mathbf{a}^\\top \\mathbf{b} = \\begin{bmatrix} 1 & 2 & 2 \\end{bmatrix} \\begin{bmatrix} 1 \\\\ 1 \\\\ 1 \\end{bmatrix} = (1)(1) + (2)(1) + (2)(1) = 1 + 2 + 2 = 5.\n",
    "$\n",
    "\n",
    "### Step 2: Compute $ \\mathbf{a}^\\top \\mathbf{a} $\n",
    "$\n",
    "\\mathbf{a}^\\top \\mathbf{a} = \\begin{bmatrix} 1 & 2 & 2 \\end{bmatrix} \\begin{bmatrix} 1 \\\\ 2 \\\\ 2 \\end{bmatrix} = (1)(1) + (2)(2) + (2)(2) = 1 + 4 + 4 = 9.\n",
    "$\n",
    "\n",
    "### Step 3: Compute the scalar $ \\frac{\\mathbf{a}^\\top \\mathbf{b}}{\\mathbf{a}^\\top \\mathbf{a}} $\n",
    "$\n",
    "\\frac{\\mathbf{a}^\\top \\mathbf{b}}{\\mathbf{a}^\\top \\mathbf{a}} = \\frac{5}{9}.\n",
    "$\n",
    "\n",
    "### Step 4: Compute $ \\mathbf{p} $\n",
    "$\n",
    "\\mathbf{p} = \\frac{5}{9} \\mathbf{a} = \\frac{5}{9} \\begin{bmatrix} 1 \\\\ 2 \\\\ 2 \\end{bmatrix} = \\begin{bmatrix} \\frac{5}{9} \\\\ \\frac{10}{9} \\\\ \\frac{10}{9} \\end{bmatrix}.\n",
    "$\n",
    "\n",
    "---\n",
    "\n",
    "### Final Answer:\n",
    "The projection of $ \\mathbf{b} $ onto $ \\mathbf{a} $ is:\n",
    "\n",
    "$\n",
    "\\mathbf{p} = \\begin{bmatrix} \\frac{5}{9} \\\\ \\frac{10}{9} \\\\ \\frac{10}{9} \\end{bmatrix}.\n",
    "$\n",
    "\n",
    "## What happens if we project this new vector again?\n",
    "\n",
    "If we project the new vector $ \\mathbf{p} = \\begin{bmatrix} \\frac{5}{9} \\\\ \\frac{10}{9} \\\\ \\frac{10}{9} \\end{bmatrix} $ onto $ \\mathbf{a} = \\begin{bmatrix} 1 \\\\ 2 \\\\ 2 \\end{bmatrix} $ again, the result will remain the same as $ \\mathbf{p} $.\n",
    "\n",
    "### Explanation:\n",
    "\n",
    "The projection $ \\mathbf{p} = \\text{proj}_{\\mathbf{a}} \\mathbf{b} $ lies entirely in the subspace spanned by $ \\mathbf{a} $. This means projecting $ \\mathbf{p} $ onto $ \\mathbf{a} $ again won't change it, because $ \\mathbf{p} $ is already a scaled version of $ \\mathbf{a} $. Mathematically:\n",
    "\n",
    "$\n",
    "\\mathbf{p} = c \\mathbf{a} \\quad \\text{for some scalar } c.\n",
    "$\n",
    "\n",
    "When we project $ \\mathbf{p} $ onto $ \\mathbf{a} $, the formula for projection gives:\n",
    "\n",
    "$\n",
    "\\text{proj}_{\\mathbf{a}} \\mathbf{p} = \\frac{\\mathbf{a}^\\top \\mathbf{p}}{\\mathbf{a}^\\top \\mathbf{a}} \\mathbf{a}.\n",
    "$\n",
    "\n",
    "Since $ \\mathbf{p} $ is already a multiple of $ \\mathbf{a} $, the ratio $ \\frac{\\mathbf{a}^\\top \\mathbf{p}}{\\mathbf{a}^\\top \\mathbf{a}} $ will simply return the same scaling factor $ c $, and hence:\n",
    "\n",
    "$\n",
    "\\text{proj}_{\\mathbf{a}} \\mathbf{p} = \\mathbf{p}.\n",
    "$\n",
    "\n",
    "### Conclusion:\n",
    "\n",
    "If you project $ \\mathbf{p} $ onto $ \\mathbf{a} $ again, you get $ \\mathbf{p} $ itself. This property holds because projection is **idempotent**, meaning:\n",
    "\n",
    "$\n",
    "\\text{proj}_{\\mathbf{a}}(\\text{proj}_{\\mathbf{a}}(\\mathbf{b})) = \\text{proj}_{\\mathbf{a}}(\\mathbf{b}).\n",
    "$"
   ]
  },
  {
   "cell_type": "markdown",
   "id": "6e1081f6-be4a-4813-97e3-0c40194537fe",
   "metadata": {},
   "source": []
  },
  {
   "cell_type": "code",
   "execution_count": null,
   "id": "21bc436f-347f-450d-83ea-10e2846c8b79",
   "metadata": {},
   "outputs": [],
   "source": []
  }
 ],
 "metadata": {
  "kernelspec": {
   "display_name": "Julia 1.11.1",
   "language": "julia",
   "name": "julia-1.11"
  },
  "language_info": {
   "file_extension": ".jl",
   "mimetype": "application/julia",
   "name": "julia",
   "version": "1.11.1"
  }
 },
 "nbformat": 4,
 "nbformat_minor": 5
}

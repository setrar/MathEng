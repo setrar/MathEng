{
 "cells": [
  {
   "cell_type": "markdown",
   "id": "507a43dc-d9f4-4862-91ec-16116c7fd740",
   "metadata": {},
   "source": [
    "The Laplace and Fourier transforms are both mathematical tools used to analyze signals, but they differ in their application, scope, and underlying principles.\n",
    "\n",
    "### 1. **Purpose and Use Cases**\n",
    "   - **Laplace Transform**: Used primarily in engineering, particularly in control systems and electrical circuit analysis, where it simplifies the analysis of linear time-invariant (LTI) systems. The Laplace transform is ideal for dealing with initial conditions and is suited for systems where the signal starts from zero (or another specific value) and evolves over time.\n",
    "   - **Fourier Transform**: Commonly used in signal processing, communications, and physics to analyze the frequency components of a signal. The Fourier transform is best for studying signals that are steady or periodic over an infinite time or space interval.\n",
    "\n",
    "### 2. **Domain of Analysis**\n",
    "   - **Laplace Transform**: Operates in the **complex frequency domain** \\( s = \\sigma + j\\omega \\), where \\( s \\) includes both real (decay/growth) and imaginary (oscillatory) components. This makes it useful for analyzing systems with exponential growth/decay and oscillations.\n",
    "   - **Fourier Transform**: Operates in the **frequency domain** \\( j\\omega \\), focusing only on the imaginary component \\( \\omega \\). It analyzes purely oscillatory behavior, assuming no growth or decay, making it well-suited for analyzing periodic or steady-state signals.\n",
    "\n",
    "### 3. **Mathematical Definitions**\n",
    "   - **Laplace Transform**:\n",
    "     \\[\n",
    "     \\mathcal{L}\\{f(t)\\} = F(s) = \\int_{0}^{\\infty} f(t) e^{-st} \\, dt\n",
    "     \\]\n",
    "   - **Fourier Transform**:\n",
    "     \\[\n",
    "     \\mathcal{F}\\{f(t)\\} = F(j\\omega) = \\int_{-\\infty}^{\\infty} f(t) e^{-j\\omega t} \\, dt\n",
    "     \\]\n",
    "\n",
    "   The Laplace transform includes a term \\( e^{-\\sigma t} \\) that allows it to handle functions that either grow or decay, while the Fourier transform, without this term, is suitable for functions that are balanced or periodic.\n",
    "\n",
    "### 4. **Region of Convergence (ROC)**\n",
    "   - **Laplace Transform**: The convergence of the Laplace transform depends on \\( s \\)'s real part (\\( \\sigma \\)), meaning it converges only in a certain region of \\( s \\)-values.\n",
    "   - **Fourier Transform**: Assumes that the signal is bounded over an infinite interval and always converges for signals that are periodic or bounded.\n",
    "\n",
    "### 5. **Inverse Transform**\n",
    "   - Both transforms have an inverse process to return to the original time domain function. However, the inverse Laplace transform is often more complex due to the \\( s \\)-plane's broader scope.\n",
    "\n",
    "In summary, the **Laplace transform** is broader and more general, accommodating both transient and steady-state analysis, while the **Fourier transform** is specifically tailored for analyzing the frequency content of steady-state, periodic, or infinite signals."
   ]
  },
  {
   "cell_type": "markdown",
   "id": "96ea94e2-d192-4edc-8063-f84429ce0868",
   "metadata": {},
   "source": [
    "### * A sequence ${1, 2, 3}$ is applied to an FIR filter with transfer function $1 + 0.5z^{-1} + 0.25z^{-2}$. Use discrete convolution to evaluate the output."
   ]
  },
  {
   "cell_type": "markdown",
   "id": "de922704-06d2-4bb4-bfc7-043185143332",
   "metadata": {},
   "source": [
    "\n",
    "\n",
    "To find the output $y(n)$ of the system, we can use the Z-transform. Let’s go through the steps.\n",
    "\n",
    "1. Define the Z-transforms of $x(n)$ and $y(n)$\n",
    "\n",
    "Given:\n",
    "\n",
    "$x(n) = 0.2^n, \\quad n \\geq 0.$\n",
    "\n",
    "\n",
    "The Z-transform of ￼ is:\n",
    "￼\n",
    "\n",
    "This is a geometric series with ratio ￼, so:\n",
    "￼\n",
    "\n",
    "We are given the difference equation for ￼:\n",
    "￼\n",
    "\n",
    "Taking the Z-transform of both sides, we get:\n",
    "￼\n",
    "\n",
    "2. Solve for ￼ in terms of ￼\n",
    "\n",
    "Rearrange to isolate ￼:\n",
    "￼\n",
    "\n",
    "Substitute ￼:\n",
    "￼\n",
    "\n",
    "3. Perform Partial Fraction Expansion\n",
    "\n",
    "To find ￼ in the time domain, we need to decompose ￼ into partial fractions:\n",
    "￼\n",
    "\n",
    "Multiplying through by the denominator ￼ gives:\n",
    "￼\n",
    "\n",
    "Expanding and collecting terms:\n",
    "￼\n",
    "\n",
    "Matching coefficients, we get:\n",
    "\n",
    "\t1.\t￼,\n",
    "\t2.\t￼.\n",
    "\n",
    "Solving this system:\n",
    "\n",
    "\t1.\tFrom ￼, we get ￼.\n",
    "\t2.\tSubstitute into the second equation:\n",
    "￼\n",
    "Expanding and solving for ￼:\n",
    "￼\n",
    "\t3.\tThen ￼.\n",
    "\n",
    "So, the partial fraction expansion is:\n",
    "\n",
    "$\n",
    "Y(z) = \\frac{-\\frac{2}{3}}{z - 0.2} + \\frac{\\frac{5}{3}}{z - 0.5}.\n",
    "$\n",
    "\n",
    "4. Inverse Z-transform to Find $y(n)$\n",
    "\n",
    "Now, apply the inverse Z-transform to find $y(n)$:\n",
    "\n",
    "$y(n) = -\\frac{2}{3} (0.2)^n + \\frac{5}{3} (0.5)^n, \\quad n \\geq 0.$\n",
    "\n",
    "\n",
    "Final Answer\n",
    "\n",
    "The output $y(n)$ is:\n",
    "\n",
    "$y(n) = -\\frac{2}{3} (0.2)^n + \\frac{5}{3} (0.5)^n, \\quad n \\geq 0.$\n",
    "\n",
    "$y(n) = - 0.667 (0.2)^n + - 1.667 (0.5)^n, \\quad n \\geq 0.$\n"
   ]
  },
  {
   "cell_type": "code",
   "execution_count": 1,
   "id": "4eba46b4-8ff2-4884-9115-ef95ae39fb28",
   "metadata": {},
   "outputs": [
    {
     "data": {
      "text/plain": [
       "0.6666666666666666"
      ]
     },
     "execution_count": 1,
     "metadata": {},
     "output_type": "execute_result"
    }
   ],
   "source": [
    "2/3"
   ]
  },
  {
   "cell_type": "code",
   "execution_count": 2,
   "id": "b9346c69-5859-4c74-9e95-7da517e07012",
   "metadata": {},
   "outputs": [
    {
     "data": {
      "text/plain": [
       "1.6666666666666667"
      ]
     },
     "execution_count": 2,
     "metadata": {},
     "output_type": "execute_result"
    }
   ],
   "source": [
    "5/3"
   ]
  },
  {
   "cell_type": "markdown",
   "id": "6f49e58e-667c-41cb-9689-45ea0cd890f2",
   "metadata": {},
   "source": [
    "To find the **frequency response** of a digital filter with the transfer function\n",
    "\n",
    "$\n",
    "H(z) = \\frac{z}{z - a},\n",
    "$\n",
    "\n",
    "we need to evaluate $ H(z) $ on the **unit circle** in the $ z $-plane. This is done by substituting $ z = e^{j\\omega} $, where $ \\omega $ is the normalized angular frequency.\n",
    "\n",
    "### Step 1: Substitute $ z = e^{j\\omega} $ in $ H(z) $\n",
    "\n",
    "Substituting $ z = e^{j\\omega} $ into the transfer function gives:\n",
    "$\n",
    "H(e^{j\\omega}) = \\frac{e^{j\\omega}}{e^{j\\omega} - a}.\n",
    "$\n",
    "\n",
    "### Step 2: Simplify the Expression\n",
    "\n",
    "To find the magnitude and phase of the frequency response, let’s separate $ H(e^{j\\omega}) $ into its real and imaginary parts.\n",
    "\n",
    "Rewrite $ H(e^{j\\omega}) $ as:\n",
    "$\n",
    "H(e^{j\\omega}) = \\frac{e^{j\\omega}}{e^{j\\omega} - a} = \\frac{\\cos(\\omega) + j\\sin(\\omega)}{\\cos(\\omega) - a + j\\sin(\\omega)}.\n",
    "$\n",
    "\n",
    "### Step 3: Calculate the Magnitude Response\n",
    "\n",
    "The magnitude response $ |H(e^{j\\omega})| $ is the modulus of $ H(e^{j\\omega}) $:\n",
    "$\n",
    "|H(e^{j\\omega})| = \\left|\\frac{e^{j\\omega}}{e^{j\\omega} - a}\\right| = \\frac{|e^{j\\omega}|}{|e^{j\\omega} - a|}.\n",
    "$\n",
    "\n",
    "Since $ |e^{j\\omega}| = 1 $, we have:\n",
    "$\n",
    "|H(e^{j\\omega})| = \\frac{1}{\\sqrt{(\\cos(\\omega) - a)^2 + \\sin^2(\\omega)}}.\n",
    "$\n",
    "\n",
    "Using $ \\sin^2(\\omega) + \\cos^2(\\omega) = 1 $, this simplifies to:\n",
    "$\n",
    "|H(e^{j\\omega})| = \\frac{1}{\\sqrt{1 - 2a\\cos(\\omega) + a^2}}.\n",
    "$\n",
    "\n",
    "### Step 4: Calculate the Phase Response\n",
    "\n",
    "The phase response $ \\arg(H(e^{j\\omega})) $ is the argument of $ H(e^{j\\omega}) $:\n",
    "$\n",
    "\\arg(H(e^{j\\omega})) = \\arg\\left(\\frac{e^{j\\omega}}{e^{j\\omega} - a}\\right).\n",
    "$\n",
    "\n",
    "This is equal to the phase of the numerator minus the phase of the denominator:\n",
    "$\n",
    "\\arg(H(e^{j\\omega})) = \\omega - \\tan^{-1}\\left(\\frac{\\sin(\\omega)}{\\cos(\\omega) - a}\\right).\n",
    "$\n",
    "\n",
    "### Summary\n",
    "\n",
    "The frequency response $ H(e^{j\\omega}) $ of the filter is:\n",
    "\n",
    "- **Magnitude Response**:\n",
    "  $\n",
    "  |H(e^{j\\omega})| = \\frac{1}{\\sqrt{1 - 2a\\cos(\\omega) + a^2}}.\n",
    "  $\n",
    "\n",
    "- **Phase Response**:\n",
    "  $\n",
    "  \\arg(H(e^{j\\omega})) = \\omega - \\tan^{-1}\\left(\\frac{\\sin(\\omega)}{\\cos(\\omega) - a}\\right).\n",
    "  $"
   ]
  },
  {
   "cell_type": "raw",
   "id": "09aaf3bd-14cf-4fde-b264-cda00ae175e6",
   "metadata": {},
   "source": []
  },
  {
   "cell_type": "raw",
   "id": "8f02a867-98f9-4a12-b6ed-79abc706552c",
   "metadata": {},
   "source": []
  }
 ],
 "metadata": {
  "kernelspec": {
   "display_name": "Julia 1.10.5",
   "language": "julia",
   "name": "julia-1.10"
  },
  "language_info": {
   "file_extension": ".jl",
   "mimetype": "application/julia",
   "name": "julia",
   "version": "1.10.5"
  }
 },
 "nbformat": 4,
 "nbformat_minor": 5
}
